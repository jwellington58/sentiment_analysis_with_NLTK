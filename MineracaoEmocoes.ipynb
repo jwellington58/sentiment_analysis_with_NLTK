{
 "cells": [
  {
   "cell_type": "code",
   "execution_count": 1,
   "metadata": {},
   "outputs": [],
   "source": [
    "import nltk\n",
    "\n",
    "#nltk.download()"
   ]
  },
  {
   "cell_type": "code",
   "execution_count": 2,
   "metadata": {},
   "outputs": [],
   "source": [
    "#Base de dados\n",
    "base = [('eu sou admirado por muitos', 'alegria'),\n",
    "        ('me sinto completamente amado', 'alegria'),\n",
    "        ('amar e maravilhoso', 'alegria'),\n",
    "        ('eu estou muito bem hoje', 'alegria'),\n",
    "        ('que belo dia para dirigir um carro novo', 'alegria'),\n",
    "        ('o dia está muito bonito', 'alegria'),\n",
    "        ('estou amedrontado', 'medo'),\n",
    "        ('ele esta me ameacando a dias', 'medo'),\n",
    "        ('isso me deixa apavorado', 'medo'),\n",
    "        ('esse lugar e apavorante', 'medo'),\n",
    "        ('eu tenho muito medo dele', 'medo'),\n",
    "        ('estou tremendo de medo', 'medo')]"
   ]
  },
  {
   "cell_type": "code",
   "execution_count": 3,
   "metadata": {},
   "outputs": [
    {
     "name": "stdout",
     "output_type": "stream",
     "text": [
      "('me sinto completamente amado', 'alegria')\n"
     ]
    }
   ],
   "source": [
    "print(base[1])"
   ]
  },
  {
   "cell_type": "code",
   "execution_count": 4,
   "metadata": {},
   "outputs": [
    {
     "name": "stdout",
     "output_type": "stream",
     "text": [
      "['de', 'a', 'o', 'que', 'e', 'do', 'da', 'em', 'um', 'para', 'com', 'não', 'uma', 'os', 'no', 'se', 'na', 'por', 'mais', 'as', 'dos', 'como', 'mas', 'ao', 'ele', 'das', 'à', 'seu', 'sua', 'ou', 'quando', 'muito', 'nos', 'já', 'eu', 'também', 'só', 'pelo', 'pela', 'até', 'isso', 'ela', 'entre', 'depois', 'sem', 'mesmo', 'aos', 'seus', 'quem', 'nas', 'me', 'esse', 'eles', 'você', 'essa', 'num', 'nem', 'suas', 'meu', 'às', 'minha', 'numa', 'pelos', 'elas', 'qual', 'nós', 'lhe', 'deles', 'essas', 'esses', 'pelas', 'este', 'dele', 'tu', 'te', 'vocês', 'vos', 'lhes', 'meus', 'minhas', 'teu', 'tua', 'teus', 'tuas', 'nosso', 'nossa', 'nossos', 'nossas', 'dela', 'delas', 'esta', 'estes', 'estas', 'aquele', 'aquela', 'aqueles', 'aquelas', 'isto', 'aquilo', 'estou', 'está', 'estamos', 'estão', 'estive', 'esteve', 'estivemos', 'estiveram', 'estava', 'estávamos', 'estavam', 'estivera', 'estivéramos', 'esteja', 'estejamos', 'estejam', 'estivesse', 'estivéssemos', 'estivessem', 'estiver', 'estivermos', 'estiverem', 'hei', 'há', 'havemos', 'hão', 'houve', 'houvemos', 'houveram', 'houvera', 'houvéramos', 'haja', 'hajamos', 'hajam', 'houvesse', 'houvéssemos', 'houvessem', 'houver', 'houvermos', 'houverem', 'houverei', 'houverá', 'houveremos', 'houverão', 'houveria', 'houveríamos', 'houveriam', 'sou', 'somos', 'são', 'era', 'éramos', 'eram', 'fui', 'foi', 'fomos', 'foram', 'fora', 'fôramos', 'seja', 'sejamos', 'sejam', 'fosse', 'fôssemos', 'fossem', 'for', 'formos', 'forem', 'serei', 'será', 'seremos', 'serão', 'seria', 'seríamos', 'seriam', 'tenho', 'tem', 'temos', 'tém', 'tinha', 'tínhamos', 'tinham', 'tive', 'teve', 'tivemos', 'tiveram', 'tivera', 'tivéramos', 'tenha', 'tenhamos', 'tenham', 'tivesse', 'tivéssemos', 'tivessem', 'tiver', 'tivermos', 'tiverem', 'terei', 'terá', 'teremos', 'terão', 'teria', 'teríamos', 'teriam']\n"
     ]
    }
   ],
   "source": [
    "stopwords = ['a', 'agora', 'algum', 'alguma', 'aquele', 'aqueles', 'de', 'deu', 'do', 'e', 'estou', 'esta', 'esta',\n",
    "            'ir', 'meu', 'muito', 'mesmo', 'no', 'nossa', 'o', 'outro', 'para', 'que', 'sem', 'talvez', 'tem', 'tendo', \n",
    "            'tenha', 'teve', 'tive', 'todo', 'um', 'uma', 'umas', 'uns', 'vou']\n",
    "\n",
    "stopwordsnltk = nltk.corpus.stopwords.words('portuguese') \n",
    "print(stopwordsnltk)"
   ]
  },
  {
   "cell_type": "code",
   "execution_count": 5,
   "metadata": {},
   "outputs": [],
   "source": [
    "def removestopword(texto):\n",
    "    frases = []\n",
    "    #for palavras in texto[0]:\n",
    "    for (palavras, emocao) in texto:\n",
    "        #semstop = [p for p in palavras.split() if p not in stopwordsnltk]\n",
    "        for p in palavras.split():\n",
    "            if p not in stopwordsnltk:\n",
    "                semstop = p\n",
    "                frases.append((semstop, emocao))\n",
    "    return frases\n",
    "        "
   ]
  },
  {
   "cell_type": "code",
   "execution_count": 6,
   "metadata": {},
   "outputs": [],
   "source": [
    "sem = removestopword(base)"
   ]
  },
  {
   "cell_type": "code",
   "execution_count": 7,
   "metadata": {},
   "outputs": [
    {
     "name": "stdout",
     "output_type": "stream",
     "text": [
      "[('admirado', 'alegria'), ('muitos', 'alegria'), ('sinto', 'alegria'), ('completamente', 'alegria'), ('amado', 'alegria'), ('amar', 'alegria'), ('maravilhoso', 'alegria'), ('bem', 'alegria'), ('hoje', 'alegria'), ('belo', 'alegria'), ('dia', 'alegria'), ('dirigir', 'alegria'), ('carro', 'alegria'), ('novo', 'alegria'), ('dia', 'alegria'), ('bonito', 'alegria'), ('amedrontado', 'medo'), ('ameacando', 'medo'), ('dias', 'medo'), ('deixa', 'medo'), ('apavorado', 'medo'), ('lugar', 'medo'), ('apavorante', 'medo'), ('medo', 'medo'), ('tremendo', 'medo'), ('medo', 'medo')]\n"
     ]
    }
   ],
   "source": [
    "print(sem)"
   ]
  },
  {
   "cell_type": "code",
   "execution_count": 8,
   "metadata": {},
   "outputs": [
    {
     "name": "stdout",
     "output_type": "stream",
     "text": [
      "[(['admir', 'muit'], 'alegria'), (['sint', 'complet', 'am'], 'alegria'), (['am', 'maravilh'], 'alegria'), (['bem', 'hoj'], 'alegria'), (['bel', 'dia', 'dirig', 'carr', 'nov'], 'alegria'), (['dia', 'bonit'], 'alegria'), (['amedront'], 'medo'), (['ameac', 'dia'], 'medo'), (['deix', 'apavor'], 'medo'), (['lug', 'apavor'], 'medo'), (['med'], 'medo'), (['trem', 'med'], 'medo')]\n"
     ]
    }
   ],
   "source": [
    "def aplicastemmer(texto):\n",
    "    stemmer = nltk.stem.RSLPStemmer()\n",
    "    frases_stemming = []\n",
    "    for (palavras, emocao) in texto:\n",
    "        com_stemming = [str(stemmer.stem(p)) for p in palavras.split() if p not in stopwordsnltk]\n",
    "        frases_stemming.append((com_stemming, emocao))\n",
    "    return frases_stemming\n",
    "\n",
    "frases_com_stemming = aplicastemmer(base)\n",
    "print(frases_com_stemming)"
   ]
  },
  {
   "cell_type": "code",
   "execution_count": 9,
   "metadata": {},
   "outputs": [
    {
     "name": "stdout",
     "output_type": "stream",
     "text": [
      "['admir', 'muit', 'sint', 'complet', 'am', 'am', 'maravilh', 'bem', 'hoj', 'bel', 'dia', 'dirig', 'carr', 'nov', 'dia', 'bonit', 'amedront', 'ameac', 'dia', 'deix', 'apavor', 'lug', 'apavor', 'med', 'trem', 'med']\n"
     ]
    }
   ],
   "source": [
    "def buscapalavras(frases):\n",
    "    todaspalavras = []\n",
    "    for (palavras, emocao) in frases:\n",
    "        todaspalavras.extend(palavras)\n",
    "    return todaspalavras\n",
    "\n",
    "palavras = buscapalavras(frases_com_stemming)\n",
    "print(palavras)"
   ]
  },
  {
   "cell_type": "code",
   "execution_count": 10,
   "metadata": {},
   "outputs": [
    {
     "name": "stdout",
     "output_type": "stream",
     "text": [
      "[('dia', 3), ('am', 2), ('apavor', 2), ('med', 2), ('admir', 1), ('muit', 1), ('sint', 1), ('complet', 1), ('maravilh', 1), ('bem', 1), ('hoj', 1), ('bel', 1), ('dirig', 1), ('carr', 1), ('nov', 1), ('bonit', 1), ('amedront', 1), ('ameac', 1), ('deix', 1), ('lug', 1), ('trem', 1)]\n"
     ]
    }
   ],
   "source": [
    "def buscafrequencia(palavras): \n",
    "    palavras = nltk.FreqDist(palavras)\n",
    "    return palavras\n",
    "\n",
    "frequencia = buscafrequencia(palavras)\n",
    "print(frequencia.most_common(50))"
   ]
  },
  {
   "cell_type": "code",
   "execution_count": 11,
   "metadata": {},
   "outputs": [
    {
     "name": "stdout",
     "output_type": "stream",
     "text": [
      "dict_keys(['admir', 'muit', 'sint', 'complet', 'am', 'maravilh', 'bem', 'hoj', 'bel', 'dia', 'dirig', 'carr', 'nov', 'bonit', 'amedront', 'ameac', 'deix', 'apavor', 'lug', 'med', 'trem'])\n"
     ]
    }
   ],
   "source": [
    "def buscapalavrasunicas (frequencia):\n",
    "    freq = frequencia.keys()\n",
    "    return freq\n",
    "\n",
    "palavrasunicas = buscapalavrasunicas(frequencia)\n",
    "print (palavrasunicas)"
   ]
  },
  {
   "cell_type": "code",
   "execution_count": 12,
   "metadata": {},
   "outputs": [
    {
     "name": "stdout",
     "output_type": "stream",
     "text": [
      "{'admir': False, 'muit': False, 'sint': False, 'complet': False, 'am': True, 'maravilh': False, 'bem': False, 'hoj': False, 'bel': False, 'dia': True, 'dirig': False, 'carr': False, 'nov': True, 'bonit': False, 'amedront': False, 'ameac': False, 'deix': False, 'apavor': False, 'lug': False, 'med': False, 'trem': False}\n"
     ]
    }
   ],
   "source": [
    "def extratorpalavras(documento):\n",
    "    doc = set(documento)\n",
    "    caracteristicas = {}\n",
    "    for palavras in palavrasunicas:\n",
    "        caracteristicas['%s' % palavras] = (palavras in doc)\n",
    "    return caracteristicas\n",
    "\n",
    "caracteristicasfrase = extratorpalavras(['am', 'nov', 'dia'])\n",
    "print(caracteristicasfrase)\n"
   ]
  },
  {
   "cell_type": "code",
   "execution_count": 13,
   "metadata": {},
   "outputs": [
    {
     "name": "stdout",
     "output_type": "stream",
     "text": [
      "({'admir': True, 'muit': True, 'sint': False, 'complet': False, 'am': False, 'maravilh': False, 'bem': False, 'hoj': False, 'bel': False, 'dia': False, 'dirig': False, 'carr': False, 'nov': False, 'bonit': False, 'amedront': False, 'ameac': False, 'deix': False, 'apavor': False, 'lug': False, 'med': False, 'trem': False}, 'alegria')\n"
     ]
    }
   ],
   "source": [
    "basecompleta = nltk.classify.apply_features(extratorpalavras, frases_com_stemming)\n",
    "print(basecompleta[0])"
   ]
  },
  {
   "cell_type": "code",
   "execution_count": 14,
   "metadata": {},
   "outputs": [
    {
     "name": "stdout",
     "output_type": "stream",
     "text": [
      "['alegria', 'medo']\n"
     ]
    }
   ],
   "source": [
    "#Treinando o modelo com a base dados existente\n",
    "classificador = nltk.NaiveBayesClassifier.train(basecompleta)\n",
    "print(classificador.labels())"
   ]
  },
  {
   "cell_type": "code",
   "execution_count": 15,
   "metadata": {},
   "outputs": [
    {
     "name": "stdout",
     "output_type": "stream",
     "text": [
      "Most Informative Features\n",
      "                     dia = True           alegri : medo   =      1.7 : 1.0\n",
      "                     med = False          alegri : medo   =      1.4 : 1.0\n",
      "                      am = False            medo : alegri =      1.4 : 1.0\n",
      "                  apavor = False          alegri : medo   =      1.4 : 1.0\n",
      "                     dia = False            medo : alegri =      1.2 : 1.0\n",
      "None\n"
     ]
    }
   ],
   "source": [
    "print(classificador.show_most_informative_features(5))"
   ]
  },
  {
   "cell_type": "code",
   "execution_count": 17,
   "metadata": {},
   "outputs": [],
   "source": [
    "teste  = 'estou com medo'"
   ]
  },
  {
   "cell_type": "code",
   "execution_count": 20,
   "metadata": {},
   "outputs": [],
   "source": [
    "def aplica_stemmer_por_palavra(frase):\n",
    "    testestemming = []\n",
    "    stemmer = nltk.stem.RSLPStemmer()\n",
    "    for (palavras) in frase.split():\n",
    "        comstem = [p for p in palavras.split()]\n",
    "        testestemming.append(str(stemmer.stem(comstem[0])))\n",
    "    \n",
    "    return testestemming\n",
    "        \n",
    "        "
   ]
  },
  {
   "cell_type": "code",
   "execution_count": 21,
   "metadata": {},
   "outputs": [
    {
     "name": "stdout",
     "output_type": "stream",
     "text": [
      "['est', 'com', 'med']\n"
     ]
    }
   ],
   "source": [
    "print(aplica_stemmer_por_palavra(teste))"
   ]
  },
  {
   "cell_type": "code",
   "execution_count": 22,
   "metadata": {},
   "outputs": [
    {
     "name": "stdout",
     "output_type": "stream",
     "text": [
      "{'admir': False, 'muit': False, 'sint': False, 'complet': False, 'am': False, 'maravilh': False, 'bem': False, 'hoj': False, 'bel': False, 'dia': False, 'dirig': False, 'carr': False, 'nov': False, 'bonit': False, 'amedront': False, 'ameac': False, 'deix': False, 'apavor': False, 'lug': False, 'med': True, 'trem': False}\n"
     ]
    }
   ],
   "source": [
    "novo = extratorpalavras(aplica_stemmer_por_palavra(teste))\n",
    "print(novo)"
   ]
  },
  {
   "cell_type": "code",
   "execution_count": 23,
   "metadata": {},
   "outputs": [
    {
     "name": "stdout",
     "output_type": "stream",
     "text": [
      "medo\n"
     ]
    }
   ],
   "source": [
    "##Classificando um novo registro\n",
    "print(classificador.classify(novo))"
   ]
  },
  {
   "cell_type": "code",
   "execution_count": null,
   "metadata": {},
   "outputs": [],
   "source": []
  }
 ],
 "metadata": {
  "kernelspec": {
   "display_name": "Python 3",
   "language": "python",
   "name": "python3"
  },
  "language_info": {
   "codemirror_mode": {
    "name": "ipython",
    "version": 3
   },
   "file_extension": ".py",
   "mimetype": "text/x-python",
   "name": "python",
   "nbconvert_exporter": "python",
   "pygments_lexer": "ipython3",
   "version": "3.6.3"
  }
 },
 "nbformat": 4,
 "nbformat_minor": 2
}
